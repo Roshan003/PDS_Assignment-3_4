{
  "nbformat": 4,
  "nbformat_minor": 0,
  "metadata": {
    "colab": {
      "provenance": []
    },
    "kernelspec": {
      "name": "python3",
      "display_name": "Python 3"
    },
    "language_info": {
      "name": "python"
    }
  },
  "cells": [
    {
      "cell_type": "code",
      "source": [
        "!pip install dash"
      ],
      "metadata": {
        "colab": {
          "base_uri": "https://localhost:8080/"
        },
        "id": "Ym3zwQoLKT95",
        "outputId": "df7da060-f00f-427d-ef27-e25ab2f5949a"
      },
      "execution_count": null,
      "outputs": [
        {
          "output_type": "stream",
          "name": "stdout",
          "text": [
            "Requirement already satisfied: dash in /usr/local/lib/python3.10/dist-packages (2.16.1)\n",
            "Requirement already satisfied: Flask<3.1,>=1.0.4 in /usr/local/lib/python3.10/dist-packages (from dash) (2.2.5)\n",
            "Requirement already satisfied: Werkzeug<3.1 in /usr/local/lib/python3.10/dist-packages (from dash) (3.0.2)\n",
            "Requirement already satisfied: plotly>=5.0.0 in /usr/local/lib/python3.10/dist-packages (from dash) (5.15.0)\n",
            "Requirement already satisfied: dash-html-components==2.0.0 in /usr/local/lib/python3.10/dist-packages (from dash) (2.0.0)\n",
            "Requirement already satisfied: dash-core-components==2.0.0 in /usr/local/lib/python3.10/dist-packages (from dash) (2.0.0)\n",
            "Requirement already satisfied: dash-table==5.0.0 in /usr/local/lib/python3.10/dist-packages (from dash) (5.0.0)\n",
            "Requirement already satisfied: importlib-metadata in /usr/local/lib/python3.10/dist-packages (from dash) (7.1.0)\n",
            "Requirement already satisfied: typing-extensions>=4.1.1 in /usr/local/lib/python3.10/dist-packages (from dash) (4.11.0)\n",
            "Requirement already satisfied: requests in /usr/local/lib/python3.10/dist-packages (from dash) (2.31.0)\n",
            "Requirement already satisfied: retrying in /usr/local/lib/python3.10/dist-packages (from dash) (1.3.4)\n",
            "Requirement already satisfied: nest-asyncio in /usr/local/lib/python3.10/dist-packages (from dash) (1.6.0)\n",
            "Requirement already satisfied: setuptools in /usr/local/lib/python3.10/dist-packages (from dash) (67.7.2)\n",
            "Requirement already satisfied: Jinja2>=3.0 in /usr/local/lib/python3.10/dist-packages (from Flask<3.1,>=1.0.4->dash) (3.1.3)\n",
            "Requirement already satisfied: itsdangerous>=2.0 in /usr/local/lib/python3.10/dist-packages (from Flask<3.1,>=1.0.4->dash) (2.1.2)\n",
            "Requirement already satisfied: click>=8.0 in /usr/local/lib/python3.10/dist-packages (from Flask<3.1,>=1.0.4->dash) (8.1.7)\n",
            "Requirement already satisfied: tenacity>=6.2.0 in /usr/local/lib/python3.10/dist-packages (from plotly>=5.0.0->dash) (8.2.3)\n",
            "Requirement already satisfied: packaging in /usr/local/lib/python3.10/dist-packages (from plotly>=5.0.0->dash) (24.0)\n",
            "Requirement already satisfied: MarkupSafe>=2.1.1 in /usr/local/lib/python3.10/dist-packages (from Werkzeug<3.1->dash) (2.1.5)\n",
            "Requirement already satisfied: zipp>=0.5 in /usr/local/lib/python3.10/dist-packages (from importlib-metadata->dash) (3.18.1)\n",
            "Requirement already satisfied: charset-normalizer<4,>=2 in /usr/local/lib/python3.10/dist-packages (from requests->dash) (3.3.2)\n",
            "Requirement already satisfied: idna<4,>=2.5 in /usr/local/lib/python3.10/dist-packages (from requests->dash) (3.6)\n",
            "Requirement already satisfied: urllib3<3,>=1.21.1 in /usr/local/lib/python3.10/dist-packages (from requests->dash) (2.0.7)\n",
            "Requirement already satisfied: certifi>=2017.4.17 in /usr/local/lib/python3.10/dist-packages (from requests->dash) (2024.2.2)\n",
            "Requirement already satisfied: six>=1.7.0 in /usr/local/lib/python3.10/dist-packages (from retrying->dash) (1.16.0)\n"
          ]
        }
      ]
    },
    {
      "cell_type": "code",
      "execution_count": 18,
      "metadata": {
        "colab": {
          "base_uri": "https://localhost:8080/",
          "height": 671
        },
        "id": "9-tYxtnFJkMa",
        "outputId": "69fc6a4d-4aa1-49e4-d577-e5491c2acb65"
      },
      "outputs": [
        {
          "output_type": "display_data",
          "data": {
            "text/plain": [
              "<IPython.core.display.Javascript object>"
            ],
            "application/javascript": [
              "(async (port, path, width, height, cache, element) => {\n",
              "    if (!google.colab.kernel.accessAllowed && !cache) {\n",
              "      return;\n",
              "    }\n",
              "    element.appendChild(document.createTextNode(''));\n",
              "    const url = await google.colab.kernel.proxyPort(port, {cache});\n",
              "    const iframe = document.createElement('iframe');\n",
              "    iframe.src = new URL(path, url).toString();\n",
              "    iframe.height = height;\n",
              "    iframe.width = width;\n",
              "    iframe.style.border = 0;\n",
              "    iframe.allow = [\n",
              "        'accelerometer',\n",
              "        'autoplay',\n",
              "        'camera',\n",
              "        'clipboard-read',\n",
              "        'clipboard-write',\n",
              "        'gyroscope',\n",
              "        'magnetometer',\n",
              "        'microphone',\n",
              "        'serial',\n",
              "        'usb',\n",
              "        'xr-spatial-tracking',\n",
              "    ].join('; ');\n",
              "    element.appendChild(iframe);\n",
              "  })(8050, \"/\", \"100%\", 650, false, window.element)"
            ]
          },
          "metadata": {}
        }
      ],
      "source": [
        "import requests\n",
        "import dash\n",
        "import dash_core_components as dcc\n",
        "import dash_html_components as html\n",
        "from dash.dependencies import Input, Output\n",
        "\n",
        "# Create a Dash application\n",
        "app = dash.Dash(__name__)\n",
        "\n",
        "# Define the layout of the dashboard\n",
        "app.layout = html.Div([\n",
        "    html.H1(\"Flight Information Dashboard\"),\n",
        "    html.Label('Enter Flight Number:'),\n",
        "    dcc.Input(id='flight-input', type='text', value='DL993'),\n",
        "    html.Button('Get Flight Information', id='get-flight-button', n_clicks=0),\n",
        "    html.Div(id='flight-output')\n",
        "])\n",
        "\n",
        "# Define a function to fetch flight information for a specific flight number\n",
        "def get_flight_information(flight_number):\n",
        "    api_key = 'dd57d0d1c2cc386972d8ec3c6c7826ca'\n",
        "    url = f'http://api.aviationstack.com/v1/flights?access_key={api_key}&flight_iata={flight_number}'\n",
        "    response = requests.get(url)\n",
        "    data = response.json()\n",
        "    return data\n",
        "\n",
        "# Define callback function to update flight information based on user input\n",
        "@app.callback(\n",
        "    Output('flight-output', 'children'),\n",
        "    [Input('get-flight-button', 'n_clicks')],\n",
        "    [dash.dependencies.State('flight-input', 'value')]\n",
        ")\n",
        "def update_flight_information(n_clicks, flight_number):\n",
        "    if n_clicks > 0:\n",
        "        flight_data = get_flight_information(flight_number)\n",
        "        if 'error' in flight_data:\n",
        "            return f\"Error: {flight_data['error']['info']}\"\n",
        "        else:\n",
        "            flight = flight_data['data'][0]\n",
        "            departure = flight['departure']\n",
        "            arrival = flight['arrival']\n",
        "            airline = flight['airline']\n",
        "            flight_number = flight['flight']['number']\n",
        "            flight_status = flight['flight_status']\n",
        "\n",
        "            return html.Div([\n",
        "                html.H2(f\"Flight Information for {airline['name']} {flight_number}\"),\n",
        "                html.P(f\"Flight Status: {flight_status}\"),\n",
        "                html.H3(\"Departure\"),\n",
        "                html.P(f\"Airport: {departure['airport']} ({departure['iata']})\"),\n",
        "                html.P(f\"Terminal: {departure['terminal']}, Gate: {departure['gate']}\"),\n",
        "                html.P(f\"Scheduled Departure: {departure['scheduled']}\"),\n",
        "                html.P(f\"Estimated Departure: {departure['estimated']}\"),\n",
        "                html.H3(\"Arrival\"),\n",
        "                html.P(f\"Airport: {arrival['airport']} ({arrival['iata']})\"),\n",
        "                html.P(f\"Terminal: {arrival['terminal']}, Gate: {arrival['gate']}, Baggage: {arrival['baggage']}\"),\n",
        "                html.P(f\"Scheduled Arrival: {arrival['scheduled']}\"),\n",
        "                html.P(f\"Estimated Arrival: {arrival['estimated']}\")\n",
        "            ])\n",
        "\n",
        "# Run the Dash application\n",
        "if __name__ == '__main__':\n",
        "    app.run_server(debug=True)\n"
      ]
    }
  ]
}